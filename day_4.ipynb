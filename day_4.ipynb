{
 "cells": [
  {
   "cell_type": "code",
   "execution_count": 6,
   "metadata": {},
   "outputs": [
    {
     "name": "stdout",
     "output_type": "stream",
     "text": [
      "3\n",
      "1\n",
      "2\n",
      "6\n",
      "4\n",
      "1\n",
      "6\n",
      "5\n",
      "Its is Match..\n"
     ]
    }
   ],
   "source": [
    "list=[]\n",
    "list_1=[1,1,5]\n",
    "for i in range(0,8):\n",
    "    a=int(input())\n",
    "    list.append(a)\n",
    "\n",
    "flag = 0\n",
    "init = 0\n",
    "\n",
    "for i in range(0,8):\n",
    "    if(list[i]==list_1[init]):\n",
    "        init = init + 1\n",
    "        flag = flag + 1\n",
    "if(flag==3):\n",
    "    print(\"Its is Match..\")\n",
    "else:\n",
    "    print(\"It's Gone..\")"
   ]
  },
  {
   "cell_type": "code",
   "execution_count": null,
   "metadata": {},
   "outputs": [],
   "source": []
  }
 ],
 "metadata": {
  "kernelspec": {
   "display_name": "Python 3",
   "language": "python",
   "name": "python3"
  },
  "language_info": {
   "codemirror_mode": {
    "name": "ipython",
    "version": 3
   },
   "file_extension": ".py",
   "mimetype": "text/x-python",
   "name": "python",
   "nbconvert_exporter": "python",
   "pygments_lexer": "ipython3",
   "version": "3.7.3"
  }
 },
 "nbformat": 4,
 "nbformat_minor": 2
}
